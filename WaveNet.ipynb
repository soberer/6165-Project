{
  "nbformat": 4,
  "nbformat_minor": 0,
  "metadata": {
    "colab": {
      "provenance": [],
      "gpuType": "T4"
    },
    "kernelspec": {
      "name": "python3",
      "display_name": "Python 3"
    },
    "language_info": {
      "name": "python"
    },
    "accelerator": "GPU",
    "gpuClass": "standard"
  },
  "cells": [
    {
      "cell_type": "code",
      "execution_count": 2,
      "metadata": {
        "id": "fPQJvEdkttly"
      },
      "outputs": [],
      "source": [
        "from music21 import *"
      ]
    },
    {
      "cell_type": "code",
      "source": [
        "import numpy as np"
      ],
      "metadata": {
        "id": "Gbi2tGAguekJ"
      },
      "execution_count": 3,
      "outputs": []
    },
    {
      "cell_type": "code",
      "source": [
        "import pathlib"
      ],
      "metadata": {
        "id": "r8GBHf2auo8R"
      },
      "execution_count": 4,
      "outputs": []
    },
    {
      "cell_type": "code",
      "source": [
        "import tensorflow as tf"
      ],
      "metadata": {
        "id": "c5GrY_8Uut8y"
      },
      "execution_count": 5,
      "outputs": []
    },
    {
      "cell_type": "code",
      "source": [
        "#defining function to read MIDI files\n",
        "def read_midi(file):\n",
        "    \n",
        "    print(\"Loading Music File:\",file)\n",
        "    \n",
        "    notes=[]\n",
        "    notes_to_parse = None\n",
        "    \n",
        "    #parsing a midi file\n",
        "    midi = converter.parse(file)\n",
        "  \n",
        "    #grouping based on different instruments\n",
        "    s2 = instrument.partitionByInstrument(midi)\n",
        "\n",
        "    #Looping over all the instruments\n",
        "    for part in s2.parts:\n",
        "    \n",
        "        #select elements of only piano\n",
        "        if 'Piano' in str(part): \n",
        "        \n",
        "            notes_to_parse = part.recurse() \n",
        "      \n",
        "            #finding whether a particular element is note or a chord\n",
        "            for element in notes_to_parse:\n",
        "                \n",
        "                #note\n",
        "                if isinstance(element, note.Note):\n",
        "                    notes.append(str(element.pitch))\n",
        "                \n",
        "                #chord\n",
        "                elif isinstance(element, chord.Chord):\n",
        "                    notes.append('.'.join(str(n) for n in element.normalOrder))\n",
        "\n",
        "    return np.array(notes)\n"
      ],
      "metadata": {
        "id": "ZWQ3pwwpt9nf"
      },
      "execution_count": 6,
      "outputs": []
    },
    {
      "cell_type": "code",
      "source": [
        "data_dir = pathlib.Path('data/maestro-v2.0.0')\n",
        "if not data_dir.exists():\n",
        "  tf.keras.utils.get_file(\n",
        "      'maestro-v2.0.0-midi.zip',\n",
        "      origin='https://storage.googleapis.com/magentadata/datasets/maestro/v2.0.0/maestro-v2.0.0-midi.zip',\n",
        "      extract=True,\n",
        "      cache_dir='.', cache_subdir='data',\n",
        "  )"
      ],
      "metadata": {
        "colab": {
          "base_uri": "https://localhost:8080/"
        },
        "id": "fxMyH-3-uD1I",
        "outputId": "e8ed0114-4fd7-449a-85de-d6a73af376b4"
      },
      "execution_count": 7,
      "outputs": [
        {
          "output_type": "stream",
          "name": "stdout",
          "text": [
            "Downloading data from https://storage.googleapis.com/magentadata/datasets/maestro/v2.0.0/maestro-v2.0.0-midi.zip\n",
            "59243107/59243107 [==============================] - 1s 0us/step\n"
          ]
        }
      ]
    },
    {
      "cell_type": "code",
      "source": [
        "notes = read_midi('/content/data/maestro-v2.0.0/2004/MIDI-Unprocessed_SMF_02_R1_2004_01-05_ORIG_MID--AUDIO_02_R1_2004_05_Track05_wav.midi')"
      ],
      "metadata": {
        "colab": {
          "base_uri": "https://localhost:8080/"
        },
        "id": "HVWNhPAruhaZ",
        "outputId": "91169ffb-3667-4918-aa16-03597a5b2c56"
      },
      "execution_count": 8,
      "outputs": [
        {
          "output_type": "stream",
          "name": "stdout",
          "text": [
            "Loading Music File: /content/data/maestro-v2.0.0/2004/MIDI-Unprocessed_SMF_02_R1_2004_01-05_ORIG_MID--AUDIO_02_R1_2004_05_Track05_wav.midi\n"
          ]
        }
      ]
    },
    {
      "cell_type": "code",
      "source": [
        "path = '/content/data/maestro-v2.0.0/2018/'"
      ],
      "metadata": {
        "id": "9E_jDoUHiYB7"
      },
      "execution_count": 9,
      "outputs": []
    },
    {
      "cell_type": "code",
      "source": [
        "import os\n",
        "files=[i for i in os.listdir(path) if i.endswith(\".midi\")]"
      ],
      "metadata": {
        "id": "U14AmctAz4ul"
      },
      "execution_count": 10,
      "outputs": []
    },
    {
      "cell_type": "code",
      "source": [
        "files"
      ],
      "metadata": {
        "id": "YhLQNfR00W0n",
        "colab": {
          "base_uri": "https://localhost:8080/"
        },
        "outputId": "db2ec35f-09c4-4a24-863f-06d87a97405a"
      },
      "execution_count": 11,
      "outputs": [
        {
          "output_type": "execute_result",
          "data": {
            "text/plain": [
              "['MIDI-Unprocessed_Recital1-3_MID--AUDIO_02_R1_2018_wav--3.midi',\n",
              " 'MIDI-Unprocessed_Recital5-7_MID--AUDIO_05_R1_2018_wav--3.midi',\n",
              " 'MIDI-Unprocessed_Recital17-19_MID--AUDIO_19_R1_2018_wav--3.midi',\n",
              " 'MIDI-Unprocessed_Recital5-7_MID--AUDIO_05_R1_2018_wav--2.midi',\n",
              " 'MIDI-Unprocessed_Schubert4-6_MID--AUDIO_09_R2_2018_wav.midi',\n",
              " 'MIDI-Unprocessed_Recital13-15_MID--AUDIO_14_R1_2018_wav--1.midi',\n",
              " 'MIDI-Unprocessed_Recital17-19_MID--AUDIO_19_R1_2018_wav--2.midi',\n",
              " 'MIDI-Unprocessed_Schubert1-3_MID--AUDIO_05_R2_2018_wav.midi',\n",
              " 'MIDI-Unprocessed_Recital8_MID--AUDIO_08_R1_2018_wav--1.midi',\n",
              " 'MIDI-Unprocessed_Recital13-15_MID--AUDIO_15_R1_2018_wav--1.midi',\n",
              " 'MIDI-Unprocessed_Recital17-19_MID--AUDIO_19_R1_2018_wav--5.midi',\n",
              " 'MIDI-Unprocessed_Recital17-19_MID--AUDIO_18_R1_2018_wav--1.midi',\n",
              " 'MIDI-Unprocessed_Recital13-15_MID--AUDIO_13_R1_2018_wav--1.midi',\n",
              " 'MIDI-Unprocessed_Recital17-19_MID--AUDIO_17_R1_2018_wav--2.midi',\n",
              " 'MIDI-Unprocessed_Recital13-15_MID--AUDIO_13_R1_2018_wav--2.midi',\n",
              " 'MIDI-Unprocessed_Recital17-19_MID--AUDIO_18_R1_2018_wav--2.midi',\n",
              " 'MIDI-Unprocessed_Schubert4-6_MID--AUDIO_08_R2_2018_wav.midi',\n",
              " 'MIDI-Unprocessed_Recital1-3_MID--AUDIO_01_R1_2018_wav--2.midi',\n",
              " 'MIDI-Unprocessed_Recital12_MID--AUDIO_12_R1_2018_wav--1.midi',\n",
              " 'MIDI-Unprocessed_Recital8_MID--AUDIO_08_R1_2018_wav--2.midi',\n",
              " 'MIDI-Unprocessed_Schubert1-3_MID--AUDIO_07_R2_2018_wav.midi',\n",
              " 'MIDI-Unprocessed_Recital1-3_MID--AUDIO_01_R1_2018_wav--1.midi',\n",
              " 'MIDI-Unprocessed_Recital20_MID--AUDIO_20_R1_2018_wav--4.midi',\n",
              " 'MIDI-Unprocessed_Chamber5_MID--AUDIO_18_R3_2018_wav--2.midi',\n",
              " 'MIDI-Unprocessed_Chamber4_MID--AUDIO_11_R3_2018_wav--1.midi',\n",
              " 'MIDI-Unprocessed_Recital1-3_MID--AUDIO_03_R1_2018_wav--1.midi',\n",
              " 'MIDI-Unprocessed_Recital5-7_MID--AUDIO_07_R1_2018_wav--2.midi',\n",
              " 'MIDI-Unprocessed_Recital9-11_MID--AUDIO_11_R1_2018_wav--2.midi',\n",
              " 'MIDI-Unprocessed_Recital17-19_MID--AUDIO_17_R1_2018_wav--1.midi',\n",
              " 'MIDI-Unprocessed_Recital12_MID--AUDIO_12_R1_2018_wav--2.midi',\n",
              " 'MIDI-Unprocessed_Recital5-7_MID--AUDIO_07_R1_2018_wav--4.midi',\n",
              " 'MIDI-Unprocessed_Recital9-11_MID--AUDIO_09_R1_2018_wav--3.midi',\n",
              " 'MIDI-Unprocessed_Recital12_MID--AUDIO_12_R1_2018_wav--3.midi',\n",
              " 'MIDI-Unprocessed_Chamber6_MID--AUDIO_20_R3_2018_wav--1.midi',\n",
              " 'MIDI-Unprocessed_Recital5-7_MID--AUDIO_06_R1_2018_wav--3.midi',\n",
              " 'MIDI-Unprocessed_Recital17-19_MID--AUDIO_19_R1_2018_wav--4.midi',\n",
              " 'MIDI-Unprocessed_Recital1-3_MID--AUDIO_03_R1_2018_wav--5.midi',\n",
              " 'MIDI-Unprocessed_Chamber4_MID--AUDIO_11_R3_2018_wav--3.midi',\n",
              " 'MIDI-Unprocessed_Recital1-3_MID--AUDIO_01_R1_2018_wav--3.midi',\n",
              " 'MIDI-Unprocessed_Recital1-3_MID--AUDIO_01_R1_2018_wav--4.midi',\n",
              " 'MIDI-Unprocessed_Recital9-11_MID--AUDIO_11_R1_2018_wav--1.midi',\n",
              " 'MIDI-Unprocessed_Recital9-11_MID--AUDIO_09_R1_2018_wav--4.midi',\n",
              " 'MIDI-Unprocessed_Recital13-15_MID--AUDIO_15_R1_2018_wav--3.midi',\n",
              " 'MIDI-Unprocessed_Recital13-15_MID--AUDIO_14_R1_2018_wav--4.midi',\n",
              " 'MIDI-Unprocessed_Recital5-7_MID--AUDIO_06_R1_2018_wav--1.midi',\n",
              " 'MIDI-Unprocessed_Recital4_MID--AUDIO_04_R1_2018_wav--5.midi',\n",
              " 'MIDI-Unprocessed_Recital17-19_MID--AUDIO_19_R1_2018_wav--1.midi',\n",
              " 'MIDI-Unprocessed_Schubert1-3_MID--AUDIO_02_R2_2018_wav.midi',\n",
              " 'MIDI-Unprocessed_Chamber1_MID--AUDIO_07_R3_2018_wav--2.midi',\n",
              " 'MIDI-Unprocessed_Schubert7-9_MID--AUDIO_15_R2_2018_wav.midi',\n",
              " 'MIDI-Unprocessed_Recital13-15_MID--AUDIO_14_R1_2018_wav--2.midi',\n",
              " 'MIDI-Unprocessed_Schubert7-9_MID--AUDIO_16_R2_2018_wav.midi',\n",
              " 'MIDI-Unprocessed_Recital5-7_MID--AUDIO_05_R1_2018_wav--1.midi',\n",
              " 'MIDI-Unprocessed_Recital4_MID--AUDIO_04_R1_2018_wav--3.midi',\n",
              " 'MIDI-Unprocessed_Recital9-11_MID--AUDIO_09_R1_2018_wav--1.midi',\n",
              " 'MIDI-Unprocessed_Recital9-11_MID--AUDIO_10_R1_2018_wav--1.midi',\n",
              " 'MIDI-Unprocessed_Chamber6_MID--AUDIO_20_R3_2018_wav--2.midi',\n",
              " 'MIDI-Unprocessed_Recital9-11_MID--AUDIO_11_R1_2018_wav--5.midi',\n",
              " 'MIDI-Unprocessed_Recital9-11_MID--AUDIO_09_R1_2018_wav--5.midi',\n",
              " 'MIDI-Unprocessed_Recital9-11_MID--AUDIO_10_R1_2018_wav--2.midi',\n",
              " 'MIDI-Unprocessed_Recital17-19_MID--AUDIO_17_R1_2018_wav--4.midi',\n",
              " 'MIDI-Unprocessed_Schubert10-12_MID--AUDIO_17_R2_2018_wav.midi',\n",
              " 'MIDI-Unprocessed_Recital16_MID--AUDIO_16_R1_2018_wav--3.midi',\n",
              " 'MIDI-Unprocessed_Chamber2_MID--AUDIO_09_R3_2018_wav--3.midi',\n",
              " 'MIDI-Unprocessed_Chamber5_MID--AUDIO_18_R3_2018_wav--1.midi',\n",
              " 'MIDI-Unprocessed_Recital1-3_MID--AUDIO_03_R1_2018_wav--4.midi',\n",
              " 'MIDI-Unprocessed_Recital17-19_MID--AUDIO_17_R1_2018_wav--3.midi',\n",
              " 'MIDI-Unprocessed_Recital4_MID--AUDIO_04_R1_2018_wav--1.midi',\n",
              " 'MIDI-Unprocessed_Chamber3_MID--AUDIO_10_R3_2018_wav--1.midi',\n",
              " 'MIDI-Unprocessed_Chamber3_MID--AUDIO_10_R3_2018_wav--2.midi',\n",
              " 'MIDI-Unprocessed_Recital20_MID--AUDIO_20_R1_2018_wav--3.midi',\n",
              " 'MIDI-Unprocessed_Recital1-3_MID--AUDIO_02_R1_2018_wav--1.midi',\n",
              " 'MIDI-Unprocessed_Schubert10-12_MID--AUDIO_18_R2_2018_wav.midi',\n",
              " 'MIDI-Unprocessed_Recital5-7_MID--AUDIO_07_R1_2018_wav--1.midi',\n",
              " 'MIDI-Unprocessed_Recital17-19_MID--AUDIO_18_R1_2018_wav--3.midi',\n",
              " 'MIDI-Unprocessed_Recital1-3_MID--AUDIO_02_R1_2018_wav--2.midi',\n",
              " 'MIDI-Unprocessed_Recital9-11_MID--AUDIO_10_R1_2018_wav--3.midi',\n",
              " 'MIDI-Unprocessed_Recital16_MID--AUDIO_16_R1_2018_wav--2.midi',\n",
              " 'MIDI-Unprocessed_Recital5-7_MID--AUDIO_06_R1_2018_wav--2.midi',\n",
              " 'MIDI-Unprocessed_Chamber6_MID--AUDIO_20_R3_2018_wav--3.midi',\n",
              " 'MIDI-Unprocessed_Recital8_MID--AUDIO_08_R1_2018_wav--3.midi',\n",
              " 'MIDI-Unprocessed_Recital5-7_MID--AUDIO_07_R1_2018_wav--3.midi',\n",
              " 'MIDI-Unprocessed_Recital13-15_MID--AUDIO_15_R1_2018_wav--4.midi',\n",
              " 'MIDI-Unprocessed_Schubert7-9_MID--AUDIO_11_R2_2018_wav.midi',\n",
              " 'MIDI-Unprocessed_Recital9-11_MID--AUDIO_10_R1_2018_wav--5.midi',\n",
              " 'MIDI-Unprocessed_Recital9-11_MID--AUDIO_09_R1_2018_wav--2.midi',\n",
              " 'MIDI-Unprocessed_Schubert10-12_MID--AUDIO_20_R2_2018_wav.midi',\n",
              " 'MIDI-Unprocessed_Chamber2_MID--AUDIO_09_R3_2018_wav--1.midi',\n",
              " 'MIDI-Unprocessed_Recital13-15_MID--AUDIO_13_R1_2018_wav--3.midi',\n",
              " 'MIDI-Unprocessed_Recital1-3_MID--AUDIO_03_R1_2018_wav--2.midi',\n",
              " 'MIDI-Unprocessed_Recital9-11_MID--AUDIO_09_R1_2018_wav--6.midi',\n",
              " 'MIDI-Unprocessed_Recital13-15_MID--AUDIO_14_R1_2018_wav--3.midi',\n",
              " 'MIDI-Unprocessed_Recital1-3_MID--AUDIO_02_R1_2018_wav--4.midi',\n",
              " 'MIDI-Unprocessed_Recital17-19_MID--AUDIO_19_R1_2018_wav--6.midi',\n",
              " 'MIDI-Unprocessed_Recital8_MID--AUDIO_08_R1_2018_wav--4.midi',\n",
              " 'MIDI-Unprocessed_Schubert4-6_MID--AUDIO_10_R2_2018_wav.midi',\n",
              " 'MIDI-Unprocessed_Chamber3_MID--AUDIO_10_R3_2018_wav--3.midi',\n",
              " 'MIDI-Unprocessed_Recital13-15_MID--AUDIO_15_R1_2018_wav--2.midi',\n",
              " 'MIDI-Unprocessed_Recital4_MID--AUDIO_04_R1_2018_wav--4.midi']"
            ]
          },
          "metadata": {},
          "execution_count": 11
        }
      ]
    },
    {
      "cell_type": "code",
      "source": [
        "notes_array = np.array([read_midi(path+i) for i in files])"
      ],
      "metadata": {
        "colab": {
          "base_uri": "https://localhost:8080/"
        },
        "id": "bva-54Z20fj_",
        "outputId": "9f110de6-3419-47db-f704-84ee08c23f3b"
      },
      "execution_count": 12,
      "outputs": [
        {
          "output_type": "stream",
          "name": "stdout",
          "text": [
            "Loading Music File: /content/data/maestro-v2.0.0/2018/MIDI-Unprocessed_Recital1-3_MID--AUDIO_02_R1_2018_wav--3.midi\n",
            "Loading Music File: /content/data/maestro-v2.0.0/2018/MIDI-Unprocessed_Recital5-7_MID--AUDIO_05_R1_2018_wav--3.midi\n",
            "Loading Music File: /content/data/maestro-v2.0.0/2018/MIDI-Unprocessed_Recital17-19_MID--AUDIO_19_R1_2018_wav--3.midi\n",
            "Loading Music File: /content/data/maestro-v2.0.0/2018/MIDI-Unprocessed_Recital5-7_MID--AUDIO_05_R1_2018_wav--2.midi\n",
            "Loading Music File: /content/data/maestro-v2.0.0/2018/MIDI-Unprocessed_Schubert4-6_MID--AUDIO_09_R2_2018_wav.midi\n",
            "Loading Music File: /content/data/maestro-v2.0.0/2018/MIDI-Unprocessed_Recital13-15_MID--AUDIO_14_R1_2018_wav--1.midi\n",
            "Loading Music File: /content/data/maestro-v2.0.0/2018/MIDI-Unprocessed_Recital17-19_MID--AUDIO_19_R1_2018_wav--2.midi\n",
            "Loading Music File: /content/data/maestro-v2.0.0/2018/MIDI-Unprocessed_Schubert1-3_MID--AUDIO_05_R2_2018_wav.midi\n",
            "Loading Music File: /content/data/maestro-v2.0.0/2018/MIDI-Unprocessed_Recital8_MID--AUDIO_08_R1_2018_wav--1.midi\n",
            "Loading Music File: /content/data/maestro-v2.0.0/2018/MIDI-Unprocessed_Recital13-15_MID--AUDIO_15_R1_2018_wav--1.midi\n",
            "Loading Music File: /content/data/maestro-v2.0.0/2018/MIDI-Unprocessed_Recital17-19_MID--AUDIO_19_R1_2018_wav--5.midi\n",
            "Loading Music File: /content/data/maestro-v2.0.0/2018/MIDI-Unprocessed_Recital17-19_MID--AUDIO_18_R1_2018_wav--1.midi\n",
            "Loading Music File: /content/data/maestro-v2.0.0/2018/MIDI-Unprocessed_Recital13-15_MID--AUDIO_13_R1_2018_wav--1.midi\n",
            "Loading Music File: /content/data/maestro-v2.0.0/2018/MIDI-Unprocessed_Recital17-19_MID--AUDIO_17_R1_2018_wav--2.midi\n",
            "Loading Music File: /content/data/maestro-v2.0.0/2018/MIDI-Unprocessed_Recital13-15_MID--AUDIO_13_R1_2018_wav--2.midi\n",
            "Loading Music File: /content/data/maestro-v2.0.0/2018/MIDI-Unprocessed_Recital17-19_MID--AUDIO_18_R1_2018_wav--2.midi\n",
            "Loading Music File: /content/data/maestro-v2.0.0/2018/MIDI-Unprocessed_Schubert4-6_MID--AUDIO_08_R2_2018_wav.midi\n",
            "Loading Music File: /content/data/maestro-v2.0.0/2018/MIDI-Unprocessed_Recital1-3_MID--AUDIO_01_R1_2018_wav--2.midi\n",
            "Loading Music File: /content/data/maestro-v2.0.0/2018/MIDI-Unprocessed_Recital12_MID--AUDIO_12_R1_2018_wav--1.midi\n",
            "Loading Music File: /content/data/maestro-v2.0.0/2018/MIDI-Unprocessed_Recital8_MID--AUDIO_08_R1_2018_wav--2.midi\n",
            "Loading Music File: /content/data/maestro-v2.0.0/2018/MIDI-Unprocessed_Schubert1-3_MID--AUDIO_07_R2_2018_wav.midi\n",
            "Loading Music File: /content/data/maestro-v2.0.0/2018/MIDI-Unprocessed_Recital1-3_MID--AUDIO_01_R1_2018_wav--1.midi\n",
            "Loading Music File: /content/data/maestro-v2.0.0/2018/MIDI-Unprocessed_Recital20_MID--AUDIO_20_R1_2018_wav--4.midi\n",
            "Loading Music File: /content/data/maestro-v2.0.0/2018/MIDI-Unprocessed_Chamber5_MID--AUDIO_18_R3_2018_wav--2.midi\n",
            "Loading Music File: /content/data/maestro-v2.0.0/2018/MIDI-Unprocessed_Chamber4_MID--AUDIO_11_R3_2018_wav--1.midi\n",
            "Loading Music File: /content/data/maestro-v2.0.0/2018/MIDI-Unprocessed_Recital1-3_MID--AUDIO_03_R1_2018_wav--1.midi\n",
            "Loading Music File: /content/data/maestro-v2.0.0/2018/MIDI-Unprocessed_Recital5-7_MID--AUDIO_07_R1_2018_wav--2.midi\n",
            "Loading Music File: /content/data/maestro-v2.0.0/2018/MIDI-Unprocessed_Recital9-11_MID--AUDIO_11_R1_2018_wav--2.midi\n",
            "Loading Music File: /content/data/maestro-v2.0.0/2018/MIDI-Unprocessed_Recital17-19_MID--AUDIO_17_R1_2018_wav--1.midi\n",
            "Loading Music File: /content/data/maestro-v2.0.0/2018/MIDI-Unprocessed_Recital12_MID--AUDIO_12_R1_2018_wav--2.midi\n",
            "Loading Music File: /content/data/maestro-v2.0.0/2018/MIDI-Unprocessed_Recital5-7_MID--AUDIO_07_R1_2018_wav--4.midi\n",
            "Loading Music File: /content/data/maestro-v2.0.0/2018/MIDI-Unprocessed_Recital9-11_MID--AUDIO_09_R1_2018_wav--3.midi\n",
            "Loading Music File: /content/data/maestro-v2.0.0/2018/MIDI-Unprocessed_Recital12_MID--AUDIO_12_R1_2018_wav--3.midi\n",
            "Loading Music File: /content/data/maestro-v2.0.0/2018/MIDI-Unprocessed_Chamber6_MID--AUDIO_20_R3_2018_wav--1.midi\n",
            "Loading Music File: /content/data/maestro-v2.0.0/2018/MIDI-Unprocessed_Recital5-7_MID--AUDIO_06_R1_2018_wav--3.midi\n",
            "Loading Music File: /content/data/maestro-v2.0.0/2018/MIDI-Unprocessed_Recital17-19_MID--AUDIO_19_R1_2018_wav--4.midi\n",
            "Loading Music File: /content/data/maestro-v2.0.0/2018/MIDI-Unprocessed_Recital1-3_MID--AUDIO_03_R1_2018_wav--5.midi\n",
            "Loading Music File: /content/data/maestro-v2.0.0/2018/MIDI-Unprocessed_Chamber4_MID--AUDIO_11_R3_2018_wav--3.midi\n",
            "Loading Music File: /content/data/maestro-v2.0.0/2018/MIDI-Unprocessed_Recital1-3_MID--AUDIO_01_R1_2018_wav--3.midi\n",
            "Loading Music File: /content/data/maestro-v2.0.0/2018/MIDI-Unprocessed_Recital1-3_MID--AUDIO_01_R1_2018_wav--4.midi\n",
            "Loading Music File: /content/data/maestro-v2.0.0/2018/MIDI-Unprocessed_Recital9-11_MID--AUDIO_11_R1_2018_wav--1.midi\n",
            "Loading Music File: /content/data/maestro-v2.0.0/2018/MIDI-Unprocessed_Recital9-11_MID--AUDIO_09_R1_2018_wav--4.midi\n",
            "Loading Music File: /content/data/maestro-v2.0.0/2018/MIDI-Unprocessed_Recital13-15_MID--AUDIO_15_R1_2018_wav--3.midi\n",
            "Loading Music File: /content/data/maestro-v2.0.0/2018/MIDI-Unprocessed_Recital13-15_MID--AUDIO_14_R1_2018_wav--4.midi\n",
            "Loading Music File: /content/data/maestro-v2.0.0/2018/MIDI-Unprocessed_Recital5-7_MID--AUDIO_06_R1_2018_wav--1.midi\n",
            "Loading Music File: /content/data/maestro-v2.0.0/2018/MIDI-Unprocessed_Recital4_MID--AUDIO_04_R1_2018_wav--5.midi\n",
            "Loading Music File: /content/data/maestro-v2.0.0/2018/MIDI-Unprocessed_Recital17-19_MID--AUDIO_19_R1_2018_wav--1.midi\n",
            "Loading Music File: /content/data/maestro-v2.0.0/2018/MIDI-Unprocessed_Schubert1-3_MID--AUDIO_02_R2_2018_wav.midi\n",
            "Loading Music File: /content/data/maestro-v2.0.0/2018/MIDI-Unprocessed_Chamber1_MID--AUDIO_07_R3_2018_wav--2.midi\n",
            "Loading Music File: /content/data/maestro-v2.0.0/2018/MIDI-Unprocessed_Schubert7-9_MID--AUDIO_15_R2_2018_wav.midi\n",
            "Loading Music File: /content/data/maestro-v2.0.0/2018/MIDI-Unprocessed_Recital13-15_MID--AUDIO_14_R1_2018_wav--2.midi\n",
            "Loading Music File: /content/data/maestro-v2.0.0/2018/MIDI-Unprocessed_Schubert7-9_MID--AUDIO_16_R2_2018_wav.midi\n",
            "Loading Music File: /content/data/maestro-v2.0.0/2018/MIDI-Unprocessed_Recital5-7_MID--AUDIO_05_R1_2018_wav--1.midi\n",
            "Loading Music File: /content/data/maestro-v2.0.0/2018/MIDI-Unprocessed_Recital4_MID--AUDIO_04_R1_2018_wav--3.midi\n",
            "Loading Music File: /content/data/maestro-v2.0.0/2018/MIDI-Unprocessed_Recital9-11_MID--AUDIO_09_R1_2018_wav--1.midi\n",
            "Loading Music File: /content/data/maestro-v2.0.0/2018/MIDI-Unprocessed_Recital9-11_MID--AUDIO_10_R1_2018_wav--1.midi\n",
            "Loading Music File: /content/data/maestro-v2.0.0/2018/MIDI-Unprocessed_Chamber6_MID--AUDIO_20_R3_2018_wav--2.midi\n",
            "Loading Music File: /content/data/maestro-v2.0.0/2018/MIDI-Unprocessed_Recital9-11_MID--AUDIO_11_R1_2018_wav--5.midi\n",
            "Loading Music File: /content/data/maestro-v2.0.0/2018/MIDI-Unprocessed_Recital9-11_MID--AUDIO_09_R1_2018_wav--5.midi\n",
            "Loading Music File: /content/data/maestro-v2.0.0/2018/MIDI-Unprocessed_Recital9-11_MID--AUDIO_10_R1_2018_wav--2.midi\n",
            "Loading Music File: /content/data/maestro-v2.0.0/2018/MIDI-Unprocessed_Recital17-19_MID--AUDIO_17_R1_2018_wav--4.midi\n",
            "Loading Music File: /content/data/maestro-v2.0.0/2018/MIDI-Unprocessed_Schubert10-12_MID--AUDIO_17_R2_2018_wav.midi\n",
            "Loading Music File: /content/data/maestro-v2.0.0/2018/MIDI-Unprocessed_Recital16_MID--AUDIO_16_R1_2018_wav--3.midi\n",
            "Loading Music File: /content/data/maestro-v2.0.0/2018/MIDI-Unprocessed_Chamber2_MID--AUDIO_09_R3_2018_wav--3.midi\n",
            "Loading Music File: /content/data/maestro-v2.0.0/2018/MIDI-Unprocessed_Chamber5_MID--AUDIO_18_R3_2018_wav--1.midi\n",
            "Loading Music File: /content/data/maestro-v2.0.0/2018/MIDI-Unprocessed_Recital1-3_MID--AUDIO_03_R1_2018_wav--4.midi\n",
            "Loading Music File: /content/data/maestro-v2.0.0/2018/MIDI-Unprocessed_Recital17-19_MID--AUDIO_17_R1_2018_wav--3.midi\n",
            "Loading Music File: /content/data/maestro-v2.0.0/2018/MIDI-Unprocessed_Recital4_MID--AUDIO_04_R1_2018_wav--1.midi\n",
            "Loading Music File: /content/data/maestro-v2.0.0/2018/MIDI-Unprocessed_Chamber3_MID--AUDIO_10_R3_2018_wav--1.midi\n",
            "Loading Music File: /content/data/maestro-v2.0.0/2018/MIDI-Unprocessed_Chamber3_MID--AUDIO_10_R3_2018_wav--2.midi\n",
            "Loading Music File: /content/data/maestro-v2.0.0/2018/MIDI-Unprocessed_Recital20_MID--AUDIO_20_R1_2018_wav--3.midi\n",
            "Loading Music File: /content/data/maestro-v2.0.0/2018/MIDI-Unprocessed_Recital1-3_MID--AUDIO_02_R1_2018_wav--1.midi\n",
            "Loading Music File: /content/data/maestro-v2.0.0/2018/MIDI-Unprocessed_Schubert10-12_MID--AUDIO_18_R2_2018_wav.midi\n",
            "Loading Music File: /content/data/maestro-v2.0.0/2018/MIDI-Unprocessed_Recital5-7_MID--AUDIO_07_R1_2018_wav--1.midi\n",
            "Loading Music File: /content/data/maestro-v2.0.0/2018/MIDI-Unprocessed_Recital17-19_MID--AUDIO_18_R1_2018_wav--3.midi\n",
            "Loading Music File: /content/data/maestro-v2.0.0/2018/MIDI-Unprocessed_Recital1-3_MID--AUDIO_02_R1_2018_wav--2.midi\n",
            "Loading Music File: /content/data/maestro-v2.0.0/2018/MIDI-Unprocessed_Recital9-11_MID--AUDIO_10_R1_2018_wav--3.midi\n",
            "Loading Music File: /content/data/maestro-v2.0.0/2018/MIDI-Unprocessed_Recital16_MID--AUDIO_16_R1_2018_wav--2.midi\n",
            "Loading Music File: /content/data/maestro-v2.0.0/2018/MIDI-Unprocessed_Recital5-7_MID--AUDIO_06_R1_2018_wav--2.midi\n",
            "Loading Music File: /content/data/maestro-v2.0.0/2018/MIDI-Unprocessed_Chamber6_MID--AUDIO_20_R3_2018_wav--3.midi\n",
            "Loading Music File: /content/data/maestro-v2.0.0/2018/MIDI-Unprocessed_Recital8_MID--AUDIO_08_R1_2018_wav--3.midi\n",
            "Loading Music File: /content/data/maestro-v2.0.0/2018/MIDI-Unprocessed_Recital5-7_MID--AUDIO_07_R1_2018_wav--3.midi\n",
            "Loading Music File: /content/data/maestro-v2.0.0/2018/MIDI-Unprocessed_Recital13-15_MID--AUDIO_15_R1_2018_wav--4.midi\n",
            "Loading Music File: /content/data/maestro-v2.0.0/2018/MIDI-Unprocessed_Schubert7-9_MID--AUDIO_11_R2_2018_wav.midi\n",
            "Loading Music File: /content/data/maestro-v2.0.0/2018/MIDI-Unprocessed_Recital9-11_MID--AUDIO_10_R1_2018_wav--5.midi\n",
            "Loading Music File: /content/data/maestro-v2.0.0/2018/MIDI-Unprocessed_Recital9-11_MID--AUDIO_09_R1_2018_wav--2.midi\n",
            "Loading Music File: /content/data/maestro-v2.0.0/2018/MIDI-Unprocessed_Schubert10-12_MID--AUDIO_20_R2_2018_wav.midi\n",
            "Loading Music File: /content/data/maestro-v2.0.0/2018/MIDI-Unprocessed_Chamber2_MID--AUDIO_09_R3_2018_wav--1.midi\n",
            "Loading Music File: /content/data/maestro-v2.0.0/2018/MIDI-Unprocessed_Recital13-15_MID--AUDIO_13_R1_2018_wav--3.midi\n",
            "Loading Music File: /content/data/maestro-v2.0.0/2018/MIDI-Unprocessed_Recital1-3_MID--AUDIO_03_R1_2018_wav--2.midi\n",
            "Loading Music File: /content/data/maestro-v2.0.0/2018/MIDI-Unprocessed_Recital9-11_MID--AUDIO_09_R1_2018_wav--6.midi\n",
            "Loading Music File: /content/data/maestro-v2.0.0/2018/MIDI-Unprocessed_Recital13-15_MID--AUDIO_14_R1_2018_wav--3.midi\n",
            "Loading Music File: /content/data/maestro-v2.0.0/2018/MIDI-Unprocessed_Recital1-3_MID--AUDIO_02_R1_2018_wav--4.midi\n",
            "Loading Music File: /content/data/maestro-v2.0.0/2018/MIDI-Unprocessed_Recital17-19_MID--AUDIO_19_R1_2018_wav--6.midi\n",
            "Loading Music File: /content/data/maestro-v2.0.0/2018/MIDI-Unprocessed_Recital8_MID--AUDIO_08_R1_2018_wav--4.midi\n",
            "Loading Music File: /content/data/maestro-v2.0.0/2018/MIDI-Unprocessed_Schubert4-6_MID--AUDIO_10_R2_2018_wav.midi\n",
            "Loading Music File: /content/data/maestro-v2.0.0/2018/MIDI-Unprocessed_Chamber3_MID--AUDIO_10_R3_2018_wav--3.midi\n",
            "Loading Music File: /content/data/maestro-v2.0.0/2018/MIDI-Unprocessed_Recital13-15_MID--AUDIO_15_R1_2018_wav--2.midi\n",
            "Loading Music File: /content/data/maestro-v2.0.0/2018/MIDI-Unprocessed_Recital4_MID--AUDIO_04_R1_2018_wav--4.midi\n"
          ]
        },
        {
          "output_type": "stream",
          "name": "stderr",
          "text": [
            "<ipython-input-12-d3b9f39eb4b3>:1: VisibleDeprecationWarning: Creating an ndarray from ragged nested sequences (which is a list-or-tuple of lists-or-tuples-or ndarrays with different lengths or shapes) is deprecated. If you meant to do this, you must specify 'dtype=object' when creating the ndarray.\n",
            "  notes_array = np.array([read_midi(path+i) for i in files])\n"
          ]
        }
      ]
    },
    {
      "cell_type": "code",
      "source": [
        "notes_ = [element for note_ in notes_array for element in note_]\n",
        "\n",
        "#No. of unique notes\n",
        "unique_notes = list(set(notes_))\n",
        "print(len(unique_notes))"
      ],
      "metadata": {
        "colab": {
          "base_uri": "https://localhost:8080/"
        },
        "id": "Uk_FXlVXwpxj",
        "outputId": "c28332e7-2aff-4967-f133-5b6e3b208db5"
      },
      "execution_count": 13,
      "outputs": [
        {
          "output_type": "stream",
          "name": "stdout",
          "text": [
            "1771\n"
          ]
        }
      ]
    },
    {
      "cell_type": "code",
      "source": [
        "\n",
        "#importing library\n",
        "from collections import Counter\n",
        "\n",
        "#computing frequency of each note\n",
        "freq = dict(Counter(notes_))\n",
        "\n",
        "#library for visualiation\n",
        "import matplotlib.pyplot as plt\n",
        "\n",
        "#consider only the frequencies\n",
        "no=[count for _,count in freq.items()]\n",
        "\n",
        "#set the figure size\n",
        "plt.figure(figsize=(5,5))\n",
        "\n",
        "#plot\n",
        "plt.hist(no)"
      ],
      "metadata": {
        "colab": {
          "base_uri": "https://localhost:8080/",
          "height": 552
        },
        "id": "A-uvdru5w2n8",
        "outputId": "834fe924-220d-4dcf-de57-fe45830f5e89"
      },
      "execution_count": 14,
      "outputs": [
        {
          "output_type": "execute_result",
          "data": {
            "text/plain": [
              "(array([1618.,   39.,   34.,   23.,   22.,    9.,    5.,    9.,    7.,\n",
              "           5.]),\n",
              " array([1.0000e+00, 8.0840e+02, 1.6158e+03, 2.4232e+03, 3.2306e+03,\n",
              "        4.0380e+03, 4.8454e+03, 5.6528e+03, 6.4602e+03, 7.2676e+03,\n",
              "        8.0750e+03]),\n",
              " <BarContainer object of 10 artists>)"
            ]
          },
          "metadata": {},
          "execution_count": 14
        },
        {
          "output_type": "display_data",
          "data": {
            "text/plain": [
              "<Figure size 500x500 with 1 Axes>"
            ],
            "image/png": "[encoded data removed]"
          },
          "metadata": {
            "image/png": {
              "width": 452,
              "height": 428
            }
          }
        }
      ]
    },
    {
      "cell_type": "code",
      "source": [
        "frequent_notes = [note_ for note_, count in freq.items() if count>=50]\n",
        "print(len(frequent_notes))"
      ],
      "metadata": {
        "colab": {
          "base_uri": "https://localhost:8080/"
        },
        "id": "ORLV6Gulw3PR",
        "outputId": "148dbd9e-8702-4b8c-fa83-d5f60d14c43b"
      },
      "execution_count": 15,
      "outputs": [
        {
          "output_type": "stream",
          "name": "stdout",
          "text": [
            "424\n"
          ]
        }
      ]
    },
    {
      "cell_type": "code",
      "source": [
        "new_music=[]\n",
        "\n",
        "for notes in notes_array:\n",
        "    temp=[]\n",
        "    for note_ in notes:\n",
        "        if note_ in frequent_notes:\n",
        "            temp.append(note_)            \n",
        "    new_music.append(temp)\n",
        "    \n",
        "new_music = np.array(new_music)"
      ],
      "metadata": {
        "colab": {
          "base_uri": "https://localhost:8080/"
        },
        "id": "EkCsdyCyxCjv",
        "outputId": "d3b0cb92-2bea-4ede-e1f2-1d0e9e1e6926"
      },
      "execution_count": 16,
      "outputs": [
        {
          "output_type": "stream",
          "name": "stderr",
          "text": [
            "<ipython-input-16-2fa7923ce1b3>:10: VisibleDeprecationWarning: Creating an ndarray from ragged nested sequences (which is a list-or-tuple of lists-or-tuples-or ndarrays with different lengths or shapes) is deprecated. If you meant to do this, you must specify 'dtype=object' when creating the ndarray.\n",
            "  new_music = np.array(new_music)\n"
          ]
        }
      ]
    },
    {
      "cell_type": "code",
      "source": [
        "no_of_timesteps = 32\n",
        "x = []\n",
        "y = []\n",
        "\n",
        "for note_ in new_music:\n",
        "    for i in range(0, len(note_) - no_of_timesteps, 1):\n",
        "        \n",
        "        #preparing input and output sequences\n",
        "        input_ = note_[i:i + no_of_timesteps]\n",
        "        output = note_[i + no_of_timesteps]\n",
        "        \n",
        "        x.append(input_)\n",
        "        y.append(output)\n",
        "        \n",
        "x=np.array(x)\n",
        "y=np.array(y)"
      ],
      "metadata": {
        "id": "UDMX3vF_xJkT"
      },
      "execution_count": 17,
      "outputs": []
    },
    {
      "cell_type": "code",
      "source": [
        "unique_x = list(set(x.ravel()))\n",
        "x_note_to_int = dict((note_, number) for number, note_ in enumerate(unique_x))"
      ],
      "metadata": {
        "id": "sreypoMExPkE"
      },
      "execution_count": 18,
      "outputs": []
    },
    {
      "cell_type": "code",
      "source": [
        "#preparing input sequences\n",
        "x_seq=[]\n",
        "for i in x:\n",
        "    temp=[]\n",
        "    for j in i:\n",
        "        #assigning unique integer to every note\n",
        "        temp.append(x_note_to_int[j])\n",
        "    x_seq.append(temp)\n",
        "    \n",
        "x_seq = np.array(x_seq)"
      ],
      "metadata": {
        "id": "Rz8je4Y2xWAb"
      },
      "execution_count": 19,
      "outputs": []
    },
    {
      "cell_type": "code",
      "source": [
        "unique_y = list(set(y))\n",
        "y_note_to_int = dict((note_, number) for number, note_ in enumerate(unique_y)) \n",
        "y_seq=np.array([y_note_to_int[i] for i in y])"
      ],
      "metadata": {
        "id": "K1E6h1mFxaIA"
      },
      "execution_count": 20,
      "outputs": []
    },
    {
      "cell_type": "code",
      "source": [
        "from sklearn.model_selection import train_test_split\n",
        "x_tr, x_val, y_tr, y_val = train_test_split(x_seq,y_seq,test_size=0.2,random_state=0)"
      ],
      "metadata": {
        "id": "Ae6YrR_vxdeD"
      },
      "execution_count": 21,
      "outputs": []
    },
    {
      "cell_type": "code",
      "source": [
        "def lstm():\n",
        "  model = Sequential()\n",
        "  model.add(LSTM(128,return_sequences=True))\n",
        "  model.add(LSTM(128))\n",
        "  model.add(Dense(256))\n",
        "  model.add(Activation('relu'))\n",
        "  model.add(Dense(n_vocab))\n",
        "  model.add(Activation('softmax'))\n",
        "  model.compile(loss='sparse_categorical_crossentropy', optimizer='adam')\n",
        "  return model"
      ],
      "metadata": {
        "id": "YTC3XCNfxg_H"
      },
      "execution_count": null,
      "outputs": []
    },
    {
      "cell_type": "code",
      "source": [
        "from keras.layers import *\n",
        "from keras.models import *\n",
        "from keras.callbacks import *\n",
        "import keras.backend as K\n",
        "\n",
        "K.clear_session()\n",
        "model = Sequential()\n",
        "    \n",
        "#embedding layer\n",
        "model.add(Embedding(len(unique_x), 100, input_length=32,trainable=True)) \n",
        "\n",
        "model.add(Conv1D(64,3, padding='causal',activation='relu'))\n",
        "model.add(Dropout(0.1))\n",
        "model.add(MaxPool1D(2))\n",
        "    \n",
        "model.add(Conv1D(128,3,activation='relu',dilation_rate=2,padding='causal'))\n",
        "model.add(Dropout(0.1))\n",
        "model.add(MaxPool1D(2))\n",
        "\n",
        "model.add(Conv1D(256,3,activation='relu',dilation_rate=4,padding='causal'))\n",
        "model.add(Dropout(0.1))\n",
        "model.add(MaxPool1D(2))\n",
        "\n",
        "model.add(Conv1D(512,3,activation='relu',dilation_rate=8,padding='causal'))\n",
        "model.add(Dropout(0.1))\n",
        "model.add(MaxPool1D(2))\n",
        "            \n",
        "model.add(GlobalMaxPool1D())\n",
        "    \n",
        "model.add(Dense(512, activation='relu'))\n",
        "model.add(Dense(len(unique_y), activation='softmax'))\n",
        "    \n",
        "model.compile(loss='sparse_categorical_crossentropy', optimizer='adam')\n",
        "\n",
        "model.summary()"
      ],
      "metadata": {
        "colab": {
          "base_uri": "https://localhost:8080/"
        },
        "id": "t4YtSOmv7xXY",
        "outputId": "3180a54b-9561-4524-89d2-3adabe990dad"
      },
      "execution_count": 22,
      "outputs": [
        {
          "output_type": "stream",
          "name": "stdout",
          "text": [
            "Model: \"sequential\"\n",
            "_________________________________________________________________\n",
            " Layer (type)                Output Shape              Param #   \n",
            "=================================================================\n",
            " embedding (Embedding)       (None, 32, 100)           42400     \n",
            "                                                                 \n",
            " conv1d (Conv1D)             (None, 32, 64)            19264     \n",
            "                                                                 \n",
            " dropout (Dropout)           (None, 32, 64)            0         \n",
            "                                                                 \n",
            " max_pooling1d (MaxPooling1D  (None, 16, 64)           0         \n",
            " )                                                               \n",
            "                                                                 \n",
            " conv1d_1 (Conv1D)           (None, 16, 128)           24704     \n",
            "                                                                 \n",
            " dropout_1 (Dropout)         (None, 16, 128)           0         \n",
            "                                                                 \n",
            " max_pooling1d_1 (MaxPooling  (None, 8, 128)           0         \n",
            " 1D)                                                             \n",
            "                                                                 \n",
            " conv1d_2 (Conv1D)           (None, 8, 256)            98560     \n",
            "                                                                 \n",
            " dropout_2 (Dropout)         (None, 8, 256)            0         \n",
            "                                                                 \n",
            " max_pooling1d_2 (MaxPooling  (None, 4, 256)           0         \n",
            " 1D)                                                             \n",
            "                                                                 \n",
            " conv1d_3 (Conv1D)           (None, 4, 512)            393728    \n",
            "                                                                 \n",
            " dropout_3 (Dropout)         (None, 4, 512)            0         \n",
            "                                                                 \n",
            " max_pooling1d_3 (MaxPooling  (None, 2, 512)           0         \n",
            " 1D)                                                             \n",
            "                                                                 \n",
            " global_max_pooling1d (Globa  (None, 512)              0         \n",
            " lMaxPooling1D)                                                  \n",
            "                                                                 \n",
            " dense (Dense)               (None, 512)               262656    \n",
            "                                                                 \n",
            " dense_1 (Dense)             (None, 424)               217512    \n",
            "                                                                 \n",
            "=================================================================\n",
            "Total params: 1,058,824\n",
            "Trainable params: 1,058,824\n",
            "Non-trainable params: 0\n",
            "_________________________________________________________________\n"
          ]
        }
      ]
    },
    {
      "cell_type": "code",
      "source": [
        "mc=ModelCheckpoint('best_model.h5', monitor='val_loss', mode='min', save_best_only=True,verbose=1)"
      ],
      "metadata": {
        "id": "_70rS1lq72Px"
      },
      "execution_count": 23,
      "outputs": []
    },
    {
      "cell_type": "code",
      "source": [
        "history = model.fit(np.array(x_tr),np.array(y_tr),batch_size=128,epochs=15, validation_data=(np.array(x_val),np.array(y_val)),verbose=1, callbacks=[mc])"
      ],
      "metadata": {
        "id": "A7q_e2Vx7_N1",
        "colab": {
          "base_uri": "https://localhost:8080/"
        },
        "outputId": "27d4198b-e92e-4d8c-a375-4ea8eaa1555d"
      },
      "execution_count": 24,
      "outputs": [
        {
          "output_type": "stream",
          "name": "stdout",
          "text": [
            "Epoch 1/15\n",
            "3232/3232 [==============================] - ETA: 0s - loss: 4.8102\n",
            "Epoch 1: val_loss improved from inf to 4.58014, saving model to best_model.h5\n",
            "3232/3232 [==============================] - 56s 14ms/step - loss: 4.8102 - val_loss: 4.5801\n",
            "Epoch 2/15\n",
            "3232/3232 [==============================] - ETA: 0s - loss: 4.4667\n",
            "Epoch 2: val_loss improved from 4.58014 to 4.41568, saving model to best_model.h5\n",
            "3232/3232 [==============================] - 28s 9ms/step - loss: 4.4667 - val_loss: 4.4157\n",
            "Epoch 3/15\n",
            "3232/3232 [==============================] - ETA: 0s - loss: 4.3351\n",
            "Epoch 3: val_loss improved from 4.41568 to 4.32160, saving model to best_model.h5\n",
            "3232/3232 [==============================] - 28s 9ms/step - loss: 4.3351 - val_loss: 4.3216\n",
            "Epoch 4/15\n",
            "3226/3232 [============================>.] - ETA: 0s - loss: 4.2594\n",
            "Epoch 4: val_loss improved from 4.32160 to 4.27542, saving model to best_model.h5\n",
            "3232/3232 [==============================] - 28s 9ms/step - loss: 4.2594 - val_loss: 4.2754\n",
            "Epoch 5/15\n",
            "3231/3232 [============================>.] - ETA: 0s - loss: 4.2057\n",
            "Epoch 5: val_loss improved from 4.27542 to 4.23658, saving model to best_model.h5\n",
            "3232/3232 [==============================] - 28s 9ms/step - loss: 4.2057 - val_loss: 4.2366\n",
            "Epoch 6/15\n",
            "3231/3232 [============================>.] - ETA: 0s - loss: 4.1643\n",
            "Epoch 6: val_loss improved from 4.23658 to 4.22020, saving model to best_model.h5\n",
            "3232/3232 [==============================] - 28s 9ms/step - loss: 4.1644 - val_loss: 4.2202\n",
            "Epoch 7/15\n",
            "3226/3232 [============================>.] - ETA: 0s - loss: 4.1345\n",
            "Epoch 7: val_loss improved from 4.22020 to 4.20237, saving model to best_model.h5\n",
            "3232/3232 [==============================] - 27s 8ms/step - loss: 4.1347 - val_loss: 4.2024\n",
            "Epoch 8/15\n",
            "3232/3232 [==============================] - ETA: 0s - loss: 4.1078\n",
            "Epoch 8: val_loss improved from 4.20237 to 4.18214, saving model to best_model.h5\n",
            "3232/3232 [==============================] - 28s 9ms/step - loss: 4.1078 - val_loss: 4.1821\n",
            "Epoch 9/15\n",
            "3230/3232 [============================>.] - ETA: 0s - loss: 4.0868\n",
            "Epoch 9: val_loss improved from 4.18214 to 4.17314, saving model to best_model.h5\n",
            "3232/3232 [==============================] - 28s 9ms/step - loss: 4.0868 - val_loss: 4.1731\n",
            "Epoch 10/15\n",
            "3231/3232 [============================>.] - ETA: 0s - loss: 4.0692\n",
            "Epoch 10: val_loss improved from 4.17314 to 4.16679, saving model to best_model.h5\n",
            "3232/3232 [==============================] - 28s 9ms/step - loss: 4.0692 - val_loss: 4.1668\n",
            "Epoch 11/15\n",
            "3228/3232 [============================>.] - ETA: 0s - loss: 4.0567\n",
            "Epoch 11: val_loss improved from 4.16679 to 4.16466, saving model to best_model.h5\n",
            "3232/3232 [==============================] - 28s 9ms/step - loss: 4.0566 - val_loss: 4.1647\n",
            "Epoch 12/15\n",
            "3231/3232 [============================>.] - ETA: 0s - loss: 4.0429\n",
            "Epoch 12: val_loss improved from 4.16466 to 4.16090, saving model to best_model.h5\n",
            "3232/3232 [==============================] - 27s 8ms/step - loss: 4.0430 - val_loss: 4.1609\n",
            "Epoch 13/15\n",
            "3228/3232 [============================>.] - ETA: 0s - loss: 4.0318\n",
            "Epoch 13: val_loss improved from 4.16090 to 4.15652, saving model to best_model.h5\n",
            "3232/3232 [==============================] - 28s 9ms/step - loss: 4.0317 - val_loss: 4.1565\n",
            "Epoch 14/15\n",
            "3231/3232 [============================>.] - ETA: 0s - loss: 4.0238\n",
            "Epoch 14: val_loss improved from 4.15652 to 4.14615, saving model to best_model.h5\n",
            "3232/3232 [==============================] - 28s 9ms/step - loss: 4.0238 - val_loss: 4.1462\n",
            "Epoch 15/15\n",
            "3225/3232 [============================>.] - ETA: 0s - loss: 4.0148\n",
            "Epoch 15: val_loss improved from 4.14615 to 4.14310, saving model to best_model.h5\n",
            "3232/3232 [==============================] - 28s 9ms/step - loss: 4.0149 - val_loss: 4.1431\n"
          ]
        }
      ]
    },
    {
      "cell_type": "code",
      "source": [
        "#loading best model\n",
        "from keras.models import load_model\n",
        "model = load_model('best_model.h5')"
      ],
      "metadata": {
        "id": "Zm3AVzN5_Pcm"
      },
      "execution_count": 25,
      "outputs": []
    },
    {
      "cell_type": "code",
      "source": [
        "import random\n",
        "ind = np.random.randint(0,len(x_val)-1)\n",
        "\n",
        "random_music = x_val[ind]\n",
        "\n",
        "predictions=[]\n",
        "for i in range(25):\n",
        "\n",
        "    random_music = random_music.reshape(1,no_of_timesteps)\n",
        "\n",
        "    prob  = model.predict(random_music)[0]\n",
        "    y_pred= np.argmax(prob,axis=0)\n",
        "    predictions.append(y_pred)\n",
        "\n",
        "    random_music = np.insert(random_music[0],len(random_music[0]),y_pred)\n",
        "    random_music = random_music[1:]\n",
        "    \n",
        "print(predictions)"
      ],
      "metadata": {
        "colab": {
          "base_uri": "https://localhost:8080/"
        },
        "id": "v-wXToBa_QEx",
        "outputId": "c5157458-01bd-4c32-dffd-5d50903e9b83"
      },
      "execution_count": 63,
      "outputs": [
        {
          "output_type": "stream",
          "name": "stdout",
          "text": [
            "1/1 [==============================] - 0s 23ms/step\n",
            "1/1 [==============================] - 0s 21ms/step\n",
            "1/1 [==============================] - 0s 18ms/step\n",
            "1/1 [==============================] - 0s 20ms/step\n",
            "1/1 [==============================] - 0s 22ms/step\n",
            "1/1 [==============================] - 0s 21ms/step\n",
            "1/1 [==============================] - 0s 25ms/step\n",
            "1/1 [==============================] - 0s 19ms/step\n",
            "1/1 [==============================] - 0s 20ms/step\n",
            "1/1 [==============================] - 0s 22ms/step\n",
            "1/1 [==============================] - 0s 20ms/step\n",
            "1/1 [==============================] - 0s 18ms/step\n",
            "1/1 [==============================] - 0s 19ms/step\n",
            "1/1 [==============================] - 0s 21ms/step\n",
            "1/1 [==============================] - 0s 18ms/step\n",
            "1/1 [==============================] - 0s 21ms/step\n",
            "1/1 [==============================] - 0s 25ms/step\n",
            "1/1 [==============================] - 0s 19ms/step\n",
            "1/1 [==============================] - 0s 26ms/step\n",
            "1/1 [==============================] - 0s 20ms/step\n",
            "1/1 [==============================] - 0s 18ms/step\n",
            "1/1 [==============================] - 0s 19ms/step\n",
            "1/1 [==============================] - 0s 20ms/step\n",
            "1/1 [==============================] - 0s 21ms/step\n",
            "1/1 [==============================] - 0s 20ms/step\n",
            "[406, 406, 406, 338, 406, 338, 338, 338, 338, 338, 338, 338, 338, 338, 338, 338, 338, 338, 338, 338, 338, 338, 338, 338, 338]\n"
          ]
        }
      ]
    },
    {
      "cell_type": "code",
      "source": [
        "x_int_to_note = dict((number, note_) for number, note_ in enumerate(unique_x)) \n",
        "predicted_notes = [x_int_to_note[i] for i in predictions]"
      ],
      "metadata": {
        "id": "A6sL1cv2_UMC"
      },
      "execution_count": 64,
      "outputs": []
    },
    {
      "cell_type": "code",
      "source": [
        "def convert_to_midi(prediction_output):\n",
        "   \n",
        "    offset = 0\n",
        "    output_notes = []\n",
        "\n",
        "    # create note and chord objects based on the values generated by the model\n",
        "    for pattern in prediction_output:\n",
        "        \n",
        "        # pattern is a chord\n",
        "        if ('.' in pattern) or pattern.isdigit():\n",
        "            notes_in_chord = pattern.split('.')\n",
        "            notes = []\n",
        "            for current_note in notes_in_chord:\n",
        "                \n",
        "                cn=int(current_note)\n",
        "                new_note = note.Note(cn)\n",
        "                new_note.storedInstrument = instrument.Piano()\n",
        "                notes.append(new_note)\n",
        "                \n",
        "            new_chord = chord.Chord(notes)\n",
        "            new_chord.offset = offset\n",
        "            output_notes.append(new_chord)\n",
        "            \n",
        "        # pattern is a note\n",
        "        else:\n",
        "            \n",
        "            new_note = note.Note(pattern)\n",
        "            new_note.offset = offset\n",
        "            new_note.storedInstrument = instrument.Piano()\n",
        "            output_notes.append(new_note)\n",
        "\n",
        "        # increase offset each iteration so that notes do not stack\n",
        "        offset += 1\n",
        "    midi_stream = stream.Stream(output_notes)\n",
        "    midi_stream.write('midi', fp='music.mid')\n"
      ],
      "metadata": {
        "id": "TpoVoxvM_iQH"
      },
      "execution_count": 65,
      "outputs": []
    },
    {
      "cell_type": "code",
      "source": [
        "convert_to_midi(predicted_notes)"
      ],
      "metadata": {
        "id": "h7u0zc6X_op0"
      },
      "execution_count": null,
      "outputs": []
    },
    {
      "cell_type": "code",
      "source": [
        "tf.keras.utils.plot_model(model, show_shapes=True)"
      ],
      "metadata": {
        "id": "6IyvQ516_r-g"
      },
      "execution_count": null,
      "outputs": []
    },
    {
      "cell_type": "code",
      "source": [
        "def plot_learning(history, tgt='loss', val_tgt='val_loss', ylab='error'):\n",
        "    plt.plot(history.history[tgt], label=tgt)\n",
        "    plt.plot(history.history[val_tgt], label=val_tgt)\n",
        "    plt.xlabel('Epoch')\n",
        "    plt.ylabel(ylab)\n",
        "    plt.legend()"
      ],
      "metadata": {
        "id": "fr-E-FV1Wlpw"
      },
      "execution_count": 66,
      "outputs": []
    },
    {
      "cell_type": "code",
      "source": [
        "plot_learning(history)"
      ],
      "metadata": {
        "colab": {
          "base_uri": "https://localhost:8080/",
          "height": 449
        },
        "id": "DvVOXbKbWmMD",
        "outputId": "642002e3-2450-479a-b159-901b37f03709"
      },
      "execution_count": 67,
      "outputs": [
        {
          "output_type": "display_data",
          "data": {
            "text/plain": [
              "<Figure size 640x480 with 1 Axes>"
            ],
            "image/png": "[encoded data removed]"
          },
          "metadata": {
            "image/png": {
              "width": 567,
              "height": 432
            }
          }
        }
      ]
    },
    {
      "cell_type": "code",
      "source": [
        "K.clear_session()\n",
        "model2 = Sequential()\n",
        "    \n",
        "#embedding layer\n",
        "model2.add(Embedding(len(unique_x), 100, input_length=32,trainable=True)) \n",
        "\n",
        "model2.add(Conv1D(64,3, padding='causal',activation='relu'))\n",
        "model2.add(Dropout(0.1))\n",
        "model2.add(MaxPool1D(2))\n",
        "    \n",
        "model2.add(Conv1D(128,3,activation='relu',dilation_rate=2,padding='causal'))\n",
        "model2.add(Dropout(0.1))\n",
        "model2.add(MaxPool1D(2))\n",
        "\n",
        "#model.add(Conv1D(256,3,activation='relu',dilation_rate=4,padding='causal'))\n",
        "#model.add(Dropout(0.1))\n",
        "#model.add(MaxPool1D(2))\n",
        "\n",
        "#model.add(Conv1D(512,3,activation='relu',dilation_rate=8,padding='causal'))\n",
        "#model.add(Dropout(0.1))\n",
        "#model.add(MaxPool1D(2))\n",
        "            \n",
        "model2.add(GlobalMaxPool1D())\n",
        "    \n",
        "model2.add(Dense(512, activation='relu'))\n",
        "model2.add(Dense(len(unique_y), activation='softmax'))\n",
        "    \n",
        "model2.compile(loss='sparse_categorical_crossentropy', optimizer='adam')\n",
        "\n",
        "model2.summary()"
      ],
      "metadata": {
        "id": "IrOojTnrWoZg",
        "colab": {
          "base_uri": "https://localhost:8080/"
        },
        "outputId": "6a417a4d-3b96-4cdc-9901-65726d4acba0"
      },
      "execution_count": 68,
      "outputs": [
        {
          "output_type": "stream",
          "name": "stdout",
          "text": [
            "Model: \"sequential\"\n",
            "_________________________________________________________________\n",
            " Layer (type)                Output Shape              Param #   \n",
            "=================================================================\n",
            " embedding (Embedding)       (None, 32, 100)           42400     \n",
            "                                                                 \n",
            " conv1d (Conv1D)             (None, 32, 64)            19264     \n",
            "                                                                 \n",
            " dropout (Dropout)           (None, 32, 64)            0         \n",
            "                                                                 \n",
            " max_pooling1d (MaxPooling1D  (None, 16, 64)           0         \n",
            " )                                                               \n",
            "                                                                 \n",
            " conv1d_1 (Conv1D)           (None, 16, 128)           24704     \n",
            "                                                                 \n",
            " dropout_1 (Dropout)         (None, 16, 128)           0         \n",
            "                                                                 \n",
            " max_pooling1d_1 (MaxPooling  (None, 8, 128)           0         \n",
            " 1D)                                                             \n",
            "                                                                 \n",
            " global_max_pooling1d (Globa  (None, 128)              0         \n",
            " lMaxPooling1D)                                                  \n",
            "                                                                 \n",
            " dense (Dense)               (None, 512)               66048     \n",
            "                                                                 \n",
            " dense_1 (Dense)             (None, 424)               217512    \n",
            "                                                                 \n",
            "=================================================================\n",
            "Total params: 369,928\n",
            "Trainable params: 369,928\n",
            "Non-trainable params: 0\n",
            "_________________________________________________________________\n"
          ]
        }
      ]
    },
    {
      "cell_type": "code",
      "source": [
        "mc=ModelCheckpoint('best_model.h5', monitor='val_loss', mode='min', save_best_only=True,verbose=1)"
      ],
      "metadata": {
        "id": "x8mhyjekW36K"
      },
      "execution_count": 69,
      "outputs": []
    },
    {
      "cell_type": "code",
      "source": [
        "history = model2.fit(np.array(x_tr),np.array(y_tr),batch_size=128,epochs=15, validation_data=(np.array(x_val),np.array(y_val)),verbose=1, callbacks=[mc])"
      ],
      "metadata": {
        "colab": {
          "base_uri": "https://localhost:8080/"
        },
        "id": "_sr9RKPzW4jY",
        "outputId": "5aaf3ccd-3f40-4565-c37e-87a6cc1e1a16"
      },
      "execution_count": 71,
      "outputs": [
        {
          "output_type": "stream",
          "name": "stdout",
          "text": [
            "Epoch 1/15\n",
            "3226/3232 [============================>.] - ETA: 0s - loss: 4.6676\n",
            "Epoch 1: val_loss improved from inf to 4.47680, saving model to best_model.h5\n",
            "3232/3232 [==============================] - 35s 10ms/step - loss: 4.6674 - val_loss: 4.4768\n",
            "Epoch 2/15\n",
            "3224/3232 [============================>.] - ETA: 0s - loss: 4.3782\n",
            "Epoch 2: val_loss improved from 4.47680 to 4.35980, saving model to best_model.h5\n",
            "3232/3232 [==============================] - 21s 6ms/step - loss: 4.3779 - val_loss: 4.3598\n",
            "Epoch 3/15\n",
            "3227/3232 [============================>.] - ETA: 0s - loss: 4.2776\n",
            "Epoch 3: val_loss improved from 4.35980 to 4.29404, saving model to best_model.h5\n",
            "3232/3232 [==============================] - 20s 6ms/step - loss: 4.2775 - val_loss: 4.2940\n",
            "Epoch 4/15\n",
            "3231/3232 [============================>.] - ETA: 0s - loss: 4.2139\n",
            "Epoch 4: val_loss improved from 4.29404 to 4.26837, saving model to best_model.h5\n",
            "3232/3232 [==============================] - 20s 6ms/step - loss: 4.2139 - val_loss: 4.2684\n",
            "Epoch 5/15\n",
            "3232/3232 [==============================] - ETA: 0s - loss: 4.1667\n",
            "Epoch 5: val_loss improved from 4.26837 to 4.25047, saving model to best_model.h5\n",
            "3232/3232 [==============================] - 20s 6ms/step - loss: 4.1667 - val_loss: 4.2505\n",
            "Epoch 6/15\n",
            "3231/3232 [============================>.] - ETA: 0s - loss: 4.1322\n",
            "Epoch 6: val_loss improved from 4.25047 to 4.23411, saving model to best_model.h5\n",
            "3232/3232 [==============================] - 20s 6ms/step - loss: 4.1322 - val_loss: 4.2341\n",
            "Epoch 7/15\n",
            "3228/3232 [============================>.] - ETA: 0s - loss: 4.1034\n",
            "Epoch 7: val_loss did not improve from 4.23411\n",
            "3232/3232 [==============================] - 20s 6ms/step - loss: 4.1033 - val_loss: 4.2349\n",
            "Epoch 8/15\n",
            "3227/3232 [============================>.] - ETA: 0s - loss: 4.0806\n",
            "Epoch 8: val_loss improved from 4.23411 to 4.22218, saving model to best_model.h5\n",
            "3232/3232 [==============================] - 21s 6ms/step - loss: 4.0807 - val_loss: 4.2222\n",
            "Epoch 9/15\n",
            "3228/3232 [============================>.] - ETA: 0s - loss: 4.0615\n",
            "Epoch 9: val_loss improved from 4.22218 to 4.21034, saving model to best_model.h5\n",
            "3232/3232 [==============================] - 21s 6ms/step - loss: 4.0617 - val_loss: 4.2103\n",
            "Epoch 10/15\n",
            "3229/3232 [============================>.] - ETA: 0s - loss: 4.0449\n",
            "Epoch 10: val_loss did not improve from 4.21034\n",
            "3232/3232 [==============================] - 20s 6ms/step - loss: 4.0450 - val_loss: 4.2137\n",
            "Epoch 11/15\n",
            "3225/3232 [============================>.] - ETA: 0s - loss: 4.0321\n",
            "Epoch 11: val_loss improved from 4.21034 to 4.21010, saving model to best_model.h5\n",
            "3232/3232 [==============================] - 20s 6ms/step - loss: 4.0322 - val_loss: 4.2101\n",
            "Epoch 12/15\n",
            "3230/3232 [============================>.] - ETA: 0s - loss: 4.0218\n",
            "Epoch 12: val_loss did not improve from 4.21010\n",
            "3232/3232 [==============================] - 20s 6ms/step - loss: 4.0218 - val_loss: 4.2211\n",
            "Epoch 13/15\n",
            "3229/3232 [============================>.] - ETA: 0s - loss: 4.0105\n",
            "Epoch 13: val_loss did not improve from 4.21010\n",
            "3232/3232 [==============================] - 20s 6ms/step - loss: 4.0106 - val_loss: 4.2199\n",
            "Epoch 14/15\n",
            "3229/3232 [============================>.] - ETA: 0s - loss: 4.0021\n",
            "Epoch 14: val_loss did not improve from 4.21010\n",
            "3232/3232 [==============================] - 20s 6ms/step - loss: 4.0023 - val_loss: 4.2168\n",
            "Epoch 15/15\n",
            "3225/3232 [============================>.] - ETA: 0s - loss: 3.9951\n",
            "Epoch 15: val_loss did not improve from 4.21010\n",
            "3232/3232 [==============================] - 20s 6ms/step - loss: 3.9950 - val_loss: 4.2158\n"
          ]
        }
      ]
    },
    {
      "cell_type": "code",
      "source": [
        "#loading best model\n",
        "from keras.models import load_model\n",
        "model = load_model('best_model.h5')"
      ],
      "metadata": {
        "id": "mVxsCOnnW7rA"
      },
      "execution_count": 72,
      "outputs": []
    },
    {
      "cell_type": "code",
      "source": [
        "import random\n",
        "ind = np.random.randint(0,len(x_val)-1)\n",
        "\n",
        "random_music = x_val[ind]\n",
        "\n",
        "predictions=[]\n",
        "for i in range(25):\n",
        "\n",
        "    random_music = random_music.reshape(1,no_of_timesteps)\n",
        "\n",
        "    prob  = model.predict(random_music)[0]\n",
        "    y_pred= np.argmax(prob,axis=0)\n",
        "    predictions.append(y_pred)\n",
        "\n",
        "    random_music = np.insert(random_music[0],len(random_music[0]),y_pred)\n",
        "    random_music = random_music[1:]\n",
        "    \n",
        "print(predictions)"
      ],
      "metadata": {
        "colab": {
          "base_uri": "https://localhost:8080/"
        },
        "id": "G-m802edXA95",
        "outputId": "0d3a35e2-99b4-4bc9-f012-52681828e608"
      },
      "execution_count": 78,
      "outputs": [
        {
          "output_type": "stream",
          "name": "stdout",
          "text": [
            "1/1 [==============================] - 0s 19ms/step\n",
            "1/1 [==============================] - 0s 19ms/step\n",
            "1/1 [==============================] - 0s 19ms/step\n",
            "1/1 [==============================] - 0s 19ms/step\n",
            "1/1 [==============================] - 0s 29ms/step\n",
            "1/1 [==============================] - 0s 19ms/step\n",
            "1/1 [==============================] - 0s 24ms/step\n",
            "1/1 [==============================] - 0s 20ms/step\n",
            "1/1 [==============================] - 0s 21ms/step\n",
            "1/1 [==============================] - 0s 19ms/step\n",
            "1/1 [==============================] - 0s 19ms/step\n",
            "1/1 [==============================] - 0s 32ms/step\n",
            "1/1 [==============================] - 0s 20ms/step\n",
            "1/1 [==============================] - 0s 30ms/step\n",
            "1/1 [==============================] - 0s 20ms/step\n",
            "1/1 [==============================] - 0s 23ms/step\n",
            "1/1 [==============================] - 0s 20ms/step\n",
            "1/1 [==============================] - 0s 20ms/step\n",
            "1/1 [==============================] - 0s 18ms/step\n",
            "1/1 [==============================] - 0s 19ms/step\n",
            "1/1 [==============================] - 0s 21ms/step\n",
            "1/1 [==============================] - 0s 19ms/step\n",
            "1/1 [==============================] - 0s 30ms/step\n",
            "1/1 [==============================] - 0s 21ms/step\n",
            "1/1 [==============================] - 0s 23ms/step\n",
            "[286, 243, 286, 243, 286, 243, 286, 243, 286, 243, 286, 243, 286, 243, 286, 286, 286, 286, 286, 286, 286, 286, 117, 286, 117]\n"
          ]
        }
      ]
    },
    {
      "cell_type": "code",
      "source": [
        "x_int_to_note = dict((number, note_) for number, note_ in enumerate(unique_x)) \n",
        "predicted_notes = [x_int_to_note[i] for i in predictions]"
      ],
      "metadata": {
        "id": "M9ZDlNrfXA5q"
      },
      "execution_count": null,
      "outputs": []
    },
    {
      "cell_type": "code",
      "source": [
        "convert_to_midi(predicted_notes)"
      ],
      "metadata": {
        "id": "cM9FwOrPXAtW"
      },
      "execution_count": null,
      "outputs": []
    }
  ]
}